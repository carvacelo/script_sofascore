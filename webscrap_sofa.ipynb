{
 "cells": [
  {
   "cell_type": "code",
   "execution_count": 3,
   "id": "5bc538f1",
   "metadata": {},
   "outputs": [
    {
     "name": "stdout",
     "output_type": "stream",
     "text": [
      "Requirement already satisfied: selenium in c:\\users\\marce\\anaconda3\\lib\\site-packages (4.4.3)\n",
      "Requirement already satisfied: trio-websocket~=0.9 in c:\\users\\marce\\anaconda3\\lib\\site-packages (from selenium) (0.9.2)\n",
      "Requirement already satisfied: trio~=0.17 in c:\\users\\marce\\anaconda3\\lib\\site-packages (from selenium) (0.21.0)\n",
      "Requirement already satisfied: certifi>=2021.10.8 in c:\\users\\marce\\anaconda3\\lib\\site-packages (from selenium) (2021.10.8)\n",
      "Requirement already satisfied: urllib3[socks]~=1.26 in c:\\users\\marce\\anaconda3\\lib\\site-packages (from selenium) (1.26.9)\n",
      "Requirement already satisfied: async-generator>=1.9 in c:\\users\\marce\\anaconda3\\lib\\site-packages (from trio~=0.17->selenium) (1.10)\n",
      "Requirement already satisfied: attrs>=19.2.0 in c:\\users\\marce\\anaconda3\\lib\\site-packages (from trio~=0.17->selenium) (21.4.0)\n",
      "Requirement already satisfied: outcome in c:\\users\\marce\\anaconda3\\lib\\site-packages (from trio~=0.17->selenium) (1.2.0)\n",
      "Requirement already satisfied: idna in c:\\users\\marce\\anaconda3\\lib\\site-packages (from trio~=0.17->selenium) (3.3)\n",
      "Requirement already satisfied: sniffio in c:\\users\\marce\\anaconda3\\lib\\site-packages (from trio~=0.17->selenium) (1.2.0)\n",
      "Requirement already satisfied: cffi>=1.14 in c:\\users\\marce\\anaconda3\\lib\\site-packages (from trio~=0.17->selenium) (1.15.0)\n",
      "Requirement already satisfied: sortedcontainers in c:\\users\\marce\\anaconda3\\lib\\site-packages (from trio~=0.17->selenium) (2.4.0)\n",
      "Requirement already satisfied: pycparser in c:\\users\\marce\\anaconda3\\lib\\site-packages (from cffi>=1.14->trio~=0.17->selenium) (2.21)\n",
      "Requirement already satisfied: wsproto>=0.14 in c:\\users\\marce\\anaconda3\\lib\\site-packages (from trio-websocket~=0.9->selenium) (1.1.0)\n",
      "Requirement already satisfied: PySocks!=1.5.7,<2.0,>=1.5.6 in c:\\users\\marce\\anaconda3\\lib\\site-packages (from urllib3[socks]~=1.26->selenium) (1.7.1)\n",
      "Requirement already satisfied: h11<1,>=0.9.0 in c:\\users\\marce\\anaconda3\\lib\\site-packages (from wsproto>=0.14->trio-websocket~=0.9->selenium) (0.13.0)\n"
     ]
    },
    {
     "ename": "AttributeError",
     "evalue": "'WebDriver' object has no attribute 'find_element_by_css_selector'",
     "output_type": "error",
     "traceback": [
      "\u001b[1;31m---------------------------------------------------------------------------\u001b[0m",
      "\u001b[1;31mAttributeError\u001b[0m                            Traceback (most recent call last)",
      "Input \u001b[1;32mIn [3]\u001b[0m, in \u001b[0;36m<cell line: 11>\u001b[1;34m()\u001b[0m\n\u001b[0;32m      8\u001b[0m driver\u001b[38;5;241m.\u001b[39mget(\u001b[38;5;124m'\u001b[39m\u001b[38;5;124mhttps://www.sofascore.com/tournament/football/brazil/brasileiro-serie-a/325\u001b[39m\u001b[38;5;124m'\u001b[39m)\n\u001b[0;32m      9\u001b[0m time\u001b[38;5;241m.\u001b[39msleep(\u001b[38;5;241m15\u001b[39m) \u001b[38;5;66;03m# Aqui ta 15s pq tava demorando pra mim, mas uns 3s já dá boa, mas não importa tanto porque é so uma vez\u001b[39;00m\n\u001b[1;32m---> 11\u001b[0m \u001b[43mdriver\u001b[49m\u001b[38;5;241;43m.\u001b[39;49m\u001b[43mfind_element_by_css_selector\u001b[49m(\u001b[38;5;124m'\u001b[39m\u001b[38;5;124mth.Tablestyles__StatisticHeader-sc-1i374hn-6:nth-child(6)\u001b[39m\u001b[38;5;124m'\u001b[39m)\u001b[38;5;241m.\u001b[39mclick() \u001b[38;5;66;03m# Aqui é referente a coluna \"tackles\" pra ordenar por ela\u001b[39;00m\n\u001b[0;32m     12\u001b[0m                                                                                                          \u001b[38;5;66;03m# Ela é desnecessária pq vc pode configurar manualmente\u001b[39;00m\n\u001b[0;32m     13\u001b[0m                                                                                                          \u001b[38;5;66;03m# Pela pagina que será aberta da mozila\u001b[39;00m\n\u001b[0;32m     15\u001b[0m time\u001b[38;5;241m.\u001b[39msleep(\u001b[38;5;241m3\u001b[39m) \u001b[38;5;66;03m# Sempre bom usar time sleep entre clicks pq o javascript demora pra carregar e ai o driver acaba nao encontrando\u001b[39;00m\n",
      "\u001b[1;31mAttributeError\u001b[0m: 'WebDriver' object has no attribute 'find_element_by_css_selector'"
     ]
    }
   ],
   "source": [
    "!pip install selenium\n",
    "from selenium import webdriver\n",
    "import time\n",
    "import pandas as pd\n",
    "\n",
    "driver = webdriver.Firefox()\n",
    "\n",
    "driver.get('https://www.sofascore.com/tournament/football/brazil/brasileiro-serie-a/325')\n",
    "time.sleep(15) # Aqui ta 15s pq tava demorando pra mim, mas uns 3s já dá boa, mas não importa tanto porque é so uma vez\n",
    "\n",
    "driver.find_element_by_css_selector('th.Tablestyles__StatisticHeader-sc-1i374hn-6:nth-child(6)').click() # Aqui é referente a coluna \"tackles\" pra ordenar por ela\n",
    "                                                                                                         # Ela é desnecessária pq vc pode configurar manualmente\n",
    "                                                                                                         # Pela pagina que será aberta da mozila\n",
    "                                                                                                         \n",
    "time.sleep(3) # Sempre bom usar time sleep entre clicks pq o javascript demora pra carregar e ai o driver acaba nao encontrando\n",
    "dados = pd.DataFrame() # Cria o dataframe que vamos guardar as tabelas\n",
    "\n",
    "for i in range(20):  # 20 é o numero de tabelas que ele vai coletar, são 20 jogador por tabela ent os 400 primeiros\n",
    "    \n",
    "    html = driver.find_element_by_css_selector('.Tablestyles__Table-sc-1i374hn-8').get_attribute('outerHTML')\n",
    "    df = pd.read_html(str(html))[0]\n",
    "\n",
    "    dados = dados.append(df, ignore_index=True)\n",
    "    driver.find_element_by_css_selector('button.Paginationstyles__Button-sc-1mupiy-0:nth-child(3)').click() # Encontra o \"proximo\" e muda a tabela\n",
    "    time.sleep(3)\n",
    "    \n",
    "dados.to_csv('dados.csv')   # Salva o dataframe no CSV\n",
    "\n",
    "# LEMBRANDO: Se vc quiser outros scouts ou segmentar por posicao, pode configurar manualmente a tabela e só pedir para o python iterar ela coletando"
   ]
  },
  {
   "cell_type": "code",
   "execution_count": null,
   "id": "7c123f1d",
   "metadata": {},
   "outputs": [],
   "source": []
  }
 ],
 "metadata": {
  "kernelspec": {
   "display_name": "Python 3 (ipykernel)",
   "language": "python",
   "name": "python3"
  },
  "language_info": {
   "codemirror_mode": {
    "name": "ipython",
    "version": 3
   },
   "file_extension": ".py",
   "mimetype": "text/x-python",
   "name": "python",
   "nbconvert_exporter": "python",
   "pygments_lexer": "ipython3",
   "version": "3.9.12"
  }
 },
 "nbformat": 4,
 "nbformat_minor": 5
}
